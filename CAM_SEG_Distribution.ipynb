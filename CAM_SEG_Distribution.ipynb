{
 "cells": [
  {
   "cell_type": "code",
   "execution_count": 1,
   "metadata": {
    "id": "f28chh4-LI4n"
   },
   "outputs": [],
   "source": [
    "import pickle\n",
    "import matplotlib.pyplot as plt\n",
    "import collections\n",
    "import numpy as np\n",
    "import itertools\n",
    "\n",
    "%matplotlib inline"
   ]
  },
  {
   "cell_type": "code",
   "execution_count": 2,
   "metadata": {
    "id": "XOZ5J3PdP4Sn"
   },
   "outputs": [],
   "source": [
    "values = ['b_s_iou_10_list', 'b_w_iou_10_list', 'c_s_iou_10_list', 'c_w_iou_10_list', 'b_size_list', 'c_size_list']"
   ]
  },
  {
   "cell_type": "code",
   "execution_count": 3,
   "metadata": {
    "colab": {
     "base_uri": "https://localhost:8080/",
     "height": 130
    },
    "id": "6TBowRPjLnbt",
    "outputId": "14c03a01-598c-43a8-f998-72df3cbb01e2"
   },
   "outputs": [
    {
     "ename": "SyntaxError",
     "evalue": "invalid syntax (<ipython-input-3-7f8e3620c4bd>, line 19)",
     "output_type": "error",
     "traceback": [
      "\u001b[0;36m  File \u001b[0;32m\"<ipython-input-3-7f8e3620c4bd>\"\u001b[0;36m, line \u001b[0;32m19\u001b[0m\n\u001b[0;31m    co_occur_results[values] = list(itertools.chain.from_iterable(co_occur_results[values])\u001b[0m\n\u001b[0m                   ^\u001b[0m\n\u001b[0;31mSyntaxError\u001b[0m\u001b[0;31m:\u001b[0m invalid syntax\n"
     ]
    }
   ],
   "source": [
    "def get_dict(exclu_filename, co_occur_filename, other_filename=None):\n",
    "  with open(exclu_filename, 'rb') as handle:\n",
    "      exclusive = pickle.load(handle)\n",
    "\n",
    "  with open(co_occur_filename, 'rb') as handle:\n",
    "    co_occur = pickle.load(handle)\n",
    "\n",
    "  co_occur_results = collections.defaultdict(list)\n",
    "  exclusive_results = collections.defaultdict(list)\n",
    "  print('co_occur.keys(): ', co_occur.keys())\n",
    "  for b in co_occur.keys():\n",
    "    for key in values:\n",
    "      exclusive_results[key].append(exclusive[b][key])\n",
    "      co_occur_results[key].append(co_occur[b][key])\n",
    "\n",
    "  print((exclusive_results['b_s_iou_10_list']))\n",
    "  for key in values:\n",
    "    exclusive_results[values] = list(itertools.chain.from_iterable(exclusive_results[values])\n",
    "    co_occur_results[values] = list(itertools.chain.from_iterable(co_occur_results[values])\n",
    "  \n",
    "  return co_occur_results, exclusive_results"
   ]
  },
  {
   "cell_type": "code",
   "execution_count": 44,
   "metadata": {
    "id": "QvuTfmcNLXvS"
   },
   "outputs": [],
   "source": [
    "def get_meanvar(co_occuur, exclu, other=None):\n",
    "  for key in values:\n",
    "    print('Exclusive Mean, Std:')\n",
    "    print(key + ': '+ np.nanmean(exclu[key])+', ' + np.nanstd(exclu[key]))\n",
    "\n",
    "    print('Co-occur Mean, Std:')\n",
    "    print(key + ': ', np.nanmean(co_occur[key])+', ' + np.nanstd(co_occur[key]))\n",
    "\n",
    "  return"
   ]
  },
  {
   "cell_type": "code",
   "execution_count": 45,
   "metadata": {
    "id": "1vDt-ruyLXHL"
   },
   "outputs": [],
   "source": [
    "def get_histo(co_occur, exclu, other=None):\n",
    "  plt.hist(np.array(exclu['b_iou_list']).squeeze(), density=True, bins=30)  # density=False would make counts\n",
    "  plt.ylabel('L2 Distances')\n",
    "  plt.xlabel('Exclusive (b)')\n",
    "  plt.show()\n",
    "  \n",
    "  plt.hist(np.array(co_occur['b_iou_list']).squeeze(), density=True, bins=30)  # density=False would make counts\n",
    "  plt.ylabel('L2 Distances')\n",
    "  plt.xlabel('Co-occur (b)')\n",
    "  plt.show()\n",
    "\n",
    "  if other != None:\n",
    "    plt.hist(np.array(other['b_iou_list']).squeeze(), density=True, bins=30)  # density=False would make counts\n",
    "    plt.ylabel('L2 Distances')\n",
    "    plt.xlabel('Other (b)')\n",
    "    plt.show()\n",
    "\n",
    "\n",
    "  plt.hist(np.array(exclu['c_iou_list']).squeeze(), density=True, bins=30)  # density=False would make counts\n",
    "  plt.ylabel('L2 Distances')\n",
    "  plt.xlabel('Exclusive (c)')\n",
    "  plt.show()\n",
    "\n",
    "  plt.hist(np.array(co_occur['c_iou_list']).squeeze(), density=True, bins=30)  # density=False would make counts\n",
    "  plt.ylabel('L2 Distances')\n",
    "  plt.xlabel('Co-occur (c)')\n",
    "  plt.show()\n",
    "  if other != None:\n",
    "    plt.hist(np.array(other['c_iou_list']).squeeze(), density=True, bins=30)  # density=False would make counts\n",
    "    plt.ylabel('L2 Distances')\n",
    "    plt.xlabel('Other (c)')\n",
    "    plt.show()\n",
    "    \n",
    "  return"
   ]
  },
  {
   "cell_type": "code",
   "execution_count": 46,
   "metadata": {
    "colab": {
     "base_uri": "https://localhost:8080/",
     "height": 402
    },
    "id": "vGTMRph5P3hp",
    "outputId": "9fc3b339-f0d8-4f16-f45d-0b7fe0ea7327"
   },
   "outputs": [
    {
     "name": "stdout",
     "output_type": "stream",
     "text": [
      "co_occur.keys():  dict_keys([41, 40, 26, 47, 2, 5, 58, 44, 68, 66, 30, 74, 32, 65, 31, 70, 78, 38, 36, 35])\n",
      "20\n"
     ]
    },
    {
     "ename": "TypeError",
     "evalue": "ignored",
     "output_type": "error",
     "traceback": [
      "\u001b[0;31m---------------------------------------------------------------------------\u001b[0m",
      "\u001b[0;31mTypeError\u001b[0m                                 Traceback (most recent call last)",
      "\u001b[0;32m<ipython-input-46-be4a61256e46>\u001b[0m in \u001b[0;36m<module>\u001b[0;34m()\u001b[0m\n\u001b[1;32m      1\u001b[0m \u001b[0mexclu_filename\u001b[0m\u001b[0;34m,\u001b[0m \u001b[0mco_occur_filename\u001b[0m  \u001b[0;34m=\u001b[0m \u001b[0;34m'/content/exclusive_results_iou.pkl'\u001b[0m\u001b[0;34m,\u001b[0m \u001b[0;34m'/content/co_occur_results_iou.pkl'\u001b[0m\u001b[0;34m\u001b[0m\u001b[0;34m\u001b[0m\u001b[0m\n\u001b[0;32m----> 2\u001b[0;31m \u001b[0mco_occur\u001b[0m\u001b[0;34m,\u001b[0m \u001b[0mexclusive\u001b[0m \u001b[0;34m=\u001b[0m \u001b[0mget_dict\u001b[0m\u001b[0;34m(\u001b[0m\u001b[0mexclu_filename\u001b[0m\u001b[0;34m,\u001b[0m \u001b[0mco_occur_filename\u001b[0m\u001b[0;34m)\u001b[0m\u001b[0;34m\u001b[0m\u001b[0;34m\u001b[0m\u001b[0m\n\u001b[0m\u001b[1;32m      3\u001b[0m \u001b[0mget_meanvar\u001b[0m\u001b[0;34m(\u001b[0m\u001b[0mco_occur\u001b[0m\u001b[0;34m,\u001b[0m \u001b[0mexclusive\u001b[0m\u001b[0;34m)\u001b[0m\u001b[0;34m\u001b[0m\u001b[0;34m\u001b[0m\u001b[0m\n\u001b[1;32m      4\u001b[0m \u001b[0mget_histo\u001b[0m\u001b[0;34m(\u001b[0m\u001b[0mco_occur\u001b[0m\u001b[0;34m,\u001b[0m \u001b[0mexclusive\u001b[0m\u001b[0;34m)\u001b[0m\u001b[0;34m\u001b[0m\u001b[0;34m\u001b[0m\u001b[0m\n",
      "\u001b[0;32m<ipython-input-39-a3f51ac65683>\u001b[0m in \u001b[0;36mget_dict\u001b[0;34m(exclu_filename, co_occur_filename, other_filename)\u001b[0m\n\u001b[1;32m     16\u001b[0m   \u001b[0mprint\u001b[0m\u001b[0;34m(\u001b[0m\u001b[0mlen\u001b[0m\u001b[0;34m(\u001b[0m\u001b[0mexclusive_results\u001b[0m\u001b[0;34m[\u001b[0m\u001b[0;34m'b_s_iou_10_list'\u001b[0m\u001b[0;34m]\u001b[0m\u001b[0;34m)\u001b[0m\u001b[0;34m)\u001b[0m\u001b[0;34m\u001b[0m\u001b[0;34m\u001b[0m\u001b[0m\n\u001b[1;32m     17\u001b[0m   \u001b[0;32mfor\u001b[0m \u001b[0mkey\u001b[0m \u001b[0;32min\u001b[0m \u001b[0mvalues\u001b[0m\u001b[0;34m:\u001b[0m\u001b[0;34m\u001b[0m\u001b[0;34m\u001b[0m\u001b[0m\n\u001b[0;32m---> 18\u001b[0;31m     \u001b[0mexclusive_results\u001b[0m\u001b[0;34m[\u001b[0m\u001b[0mvalues\u001b[0m\u001b[0;34m]\u001b[0m \u001b[0;34m=\u001b[0m \u001b[0mlist\u001b[0m\u001b[0;34m(\u001b[0m\u001b[0mitertools\u001b[0m\u001b[0;34m.\u001b[0m\u001b[0mchain\u001b[0m\u001b[0;34m.\u001b[0m\u001b[0mfrom_iterable\u001b[0m\u001b[0;34m(\u001b[0m\u001b[0mlist\u001b[0m\u001b[0;34m(\u001b[0m\u001b[0mitertools\u001b[0m\u001b[0;34m.\u001b[0m\u001b[0mchain\u001b[0m\u001b[0;34m.\u001b[0m\u001b[0mfrom_iterable\u001b[0m\u001b[0;34m(\u001b[0m\u001b[0mexclusive_results\u001b[0m\u001b[0;34m[\u001b[0m\u001b[0mvalues\u001b[0m\u001b[0;34m]\u001b[0m\u001b[0;34m)\u001b[0m\u001b[0;34m)\u001b[0m\u001b[0;34m)\u001b[0m\u001b[0;34m)\u001b[0m\u001b[0;34m\u001b[0m\u001b[0;34m\u001b[0m\u001b[0m\n\u001b[0m\u001b[1;32m     19\u001b[0m     \u001b[0mco_occur_results\u001b[0m\u001b[0;34m[\u001b[0m\u001b[0mvalues\u001b[0m\u001b[0;34m]\u001b[0m \u001b[0;34m=\u001b[0m \u001b[0mlist\u001b[0m\u001b[0;34m(\u001b[0m\u001b[0mitertools\u001b[0m\u001b[0;34m.\u001b[0m\u001b[0mchain\u001b[0m\u001b[0;34m.\u001b[0m\u001b[0mfrom_iterable\u001b[0m\u001b[0;34m(\u001b[0m\u001b[0mlist\u001b[0m\u001b[0;34m(\u001b[0m\u001b[0mitertools\u001b[0m\u001b[0;34m.\u001b[0m\u001b[0mchain\u001b[0m\u001b[0;34m.\u001b[0m\u001b[0mfrom_iterable\u001b[0m\u001b[0;34m(\u001b[0m\u001b[0mco_occur_results\u001b[0m\u001b[0;34m[\u001b[0m\u001b[0mvalues\u001b[0m\u001b[0;34m]\u001b[0m\u001b[0;34m)\u001b[0m\u001b[0;34m)\u001b[0m\u001b[0;34m)\u001b[0m\u001b[0;34m)\u001b[0m\u001b[0;34m\u001b[0m\u001b[0;34m\u001b[0m\u001b[0m\n\u001b[1;32m     20\u001b[0m \u001b[0;34m\u001b[0m\u001b[0m\n",
      "\u001b[0;31mTypeError\u001b[0m: unhashable type: 'list'"
     ]
    }
   ],
   "source": [
    "exclu_filename, co_occur_filename  = '/content/exclusive_results_iou.pkl', '/content/co_occur_results_iou.pkl'\n",
    "co_occur, exclusive = get_dict(exclu_filename, co_occur_filename)\n",
    "get_meanvar(co_occur, exclusive)\n",
    "get_histo(co_occur, exclusive)"
   ]
  },
  {
   "cell_type": "code",
   "execution_count": null,
   "metadata": {
    "id": "Sfi8x4-jSM1Z"
   },
   "outputs": [],
   "source": []
  },
  {
   "cell_type": "markdown",
   "metadata": {
    "id": "6f07YSdX5KJJ"
   },
   "source": [
    "All_imgs.pkl\n",
    "1.   List of length 20 (one for each biased category pair. \n",
    "2.   Each item in the list has 16k distances that represent \n",
    "\n"
   ]
  },
  {
   "cell_type": "code",
   "execution_count": null,
   "metadata": {
    "id": "OKZt0efsLpWo"
   },
   "outputs": [],
   "source": [
    "import os, pickle, copy, itertools\n",
    "import numpy as np\n",
    "from sklearn.metrics import average_precision_score\n",
    "import matplotlib.pyplot as plt"
   ]
  },
  {
   "cell_type": "code",
   "execution_count": null,
   "metadata": {
    "colab": {
     "base_uri": "https://localhost:8080/"
    },
    "id": "J5mPwbXVmryP",
    "outputId": "d66f1309-6276-4ae1-eadb-d75c48931a72"
   },
   "outputs": [
    {
     "name": "stdout",
     "output_type": "stream",
     "text": [
      "Mounted at /content/drive\n"
     ]
    }
   ],
   "source": [
    "root = './'\n",
    "from google.colab import drive\n",
    "drive.mount('/content/drive')"
   ]
  },
  {
   "cell_type": "code",
   "execution_count": null,
   "metadata": {
    "colab": {
     "base_uri": "https://localhost:8080/"
    },
    "id": "4f8WdZ7DT_Zw",
    "outputId": "43af0988-ea8d-4893-f6d6-254aadde3b71"
   },
   "outputs": [
    {
     "name": "stdout",
     "output_type": "stream",
     "text": [
      "/content/drive/MyDrive/ContextualBiasStacking/decision_tree\n"
     ]
    }
   ],
   "source": [
    "cd /content/drive/MyDrive/ContextualBiasStacking/decision_tree"
   ]
  },
  {
   "cell_type": "code",
   "execution_count": null,
   "metadata": {
    "id": "qb3BIJg2jiqL"
   },
   "outputs": [],
   "source": [
    "def combine_models(dir_name: str, labels=False):\n",
    "  result = None\n",
    "  # validation: 0: featuresplit 1: standard 2: weighted\n",
    "  # test: 0: standard 1: weighted\n",
    "  for i, pkl_file in enumerate(sorted(os.listdir(dir_name))):\n",
    "    print(pkl_file)\n",
    "    features = pickle.load(open('{}/{}'.format(dir_name, pkl_file), 'rb'))\n",
    "    if labels:\n",
    "      result = features\n",
    "    else: \n",
    "      features = np.expand_dims(features, axis=1) # get the M axis\n",
    "      if i==0:\n",
    "        result = features\n",
    "      else:\n",
    "        result = np.concatenate((result, features), axis=1)\n",
    "    \n",
    "  print('{} shape: {}'.format(dir_name, result.shape))\n",
    "  return result"
   ]
  },
  {
   "cell_type": "code",
   "execution_count": null,
   "metadata": {
    "colab": {
     "base_uri": "https://localhost:8080/"
    },
    "id": "H6BYNMDGU3ua",
    "outputId": "962c2ae5-88aa-49e4-b8f8-8bef9dcb5be4"
   },
   "outputs": [
    {
     "name": "stdout",
     "output_type": "stream",
     "text": [
      "featuresplit_val_meta.pkl\n",
      "standard_val_meta.pkl\n",
      "weighted_val_meta.pkl\n",
      "./val_meta shape: (16557, 3, 171)\n",
      "standard_test_meta.pkl\n",
      "weighted_test_meta.pkl\n",
      "./test_meta shape: (40504, 2, 171)\n"
     ]
    }
   ],
   "source": [
    "# train_meta = combine_models('train_meta')\n",
    "val_meta = combine_models(root+'val_meta')\n",
    "test_meta = combine_models(root+'test_meta')"
   ]
  },
  {
   "cell_type": "code",
   "execution_count": null,
   "metadata": {
    "colab": {
     "base_uri": "https://localhost:8080/"
    },
    "id": "D5S5VuXmmryR",
    "outputId": "84888623-e265-4261-da97-f93052e47266"
   },
   "outputs": [
    {
     "name": "stdout",
     "output_type": "stream",
     "text": [
      "labels_list_val shape: (16557, 171)\n",
      "labels_list_test shape: (40504, 171)\n"
     ]
    }
   ],
   "source": [
    "dir_name = root+'labels_list'\n",
    "# labels_list_train = pickle.load(open('{}/{}'.format(dir_name, 'labels_list_80.pkl'), 'rb'))\n",
    "labels_list_val = pickle.load(open('{}/{}'.format(dir_name, 'label_list_val.pkl'), 'rb'))\n",
    "labels_list_test = pickle.load(open('{}/{}'.format(dir_name, 'label_list_test.pkl'), 'rb'))\n",
    "# print('labels_list_train shape:', labels_list_train.shape)\n",
    "print('labels_list_val shape:', labels_list_val.shape)\n",
    "print('labels_list_test shape:', labels_list_test.shape)"
   ]
  },
  {
   "cell_type": "code",
   "execution_count": null,
   "metadata": {
    "id": "loCzhkEvuHUh"
   },
   "outputs": [],
   "source": [
    "from torch.utils.data import Dataset, DataLoader\n",
    "import torch\n",
    "\n",
    "class Dataset(Dataset):\n",
    "    def __init__(self, meta_features, img_labels_list):\n",
    "        # self.meta_features = meta_features > 0.5\n",
    "        self.meta_features = meta_features \n",
    "        self.img_labels_list = img_labels_list\n",
    "\n",
    "    def __len__(self):\n",
    "        return self.img_labels_list.shape[0]\n",
    "\n",
    "    def __getitem__(self, index):\n",
    "        X = self.meta_features[index]\n",
    "        y = self.img_labels_list[index]\n",
    "        return X, y"
   ]
  },
  {
   "cell_type": "code",
   "execution_count": null,
   "metadata": {
    "id": "csAt6vwJw7wH"
   },
   "outputs": [],
   "source": [
    "val_dset = Dataset(val_meta, labels_list_val)\n",
    "val_bs = val_meta.shape[0]\n",
    "val_loader = DataLoader(val_dset, batch_size=val_bs, shuffle=False, num_workers=1)\n",
    "\n",
    "test_dset = Dataset(test_meta, labels_list_test)\n",
    "test_bs = test_meta.shape[0]\n",
    "test_loader = DataLoader(test_dset, batch_size=test_bs, shuffle=False, num_workers=1)"
   ]
  },
  {
   "cell_type": "code",
   "execution_count": null,
   "metadata": {
    "id": "sS4gwh0hmryS"
   },
   "outputs": [],
   "source": [
    "biased_classes_mapped = pickle.load(open('../biased_classes_mapped.pkl', 'rb'))\n",
    "humanlabels_to_onehot = pickle.load(open('../humanlabels_to_onehot.pkl', 'rb'))\n",
    "unbiased_classes_mapped = pickle.load(open('../unbiased_classes_mapped.pkl', 'rb'))\n",
    "\n",
    "onehot_to_humanlabels = dict((y,x) for x,y in humanlabels_to_onehot.items())\n",
    "biased_classes_list = list(biased_classes_mapped.keys())"
   ]
  },
  {
   "cell_type": "markdown",
   "metadata": {
    "id": "OcSAkq-hmryT"
   },
   "source": [
    "# Gather scores on the validation or the test set"
   ]
  },
  {
   "cell_type": "code",
   "execution_count": null,
   "metadata": {
    "id": "YYNsDj3UmryT"
   },
   "outputs": [],
   "source": [
    "split = 'validation'"
   ]
  },
  {
   "cell_type": "code",
   "execution_count": null,
   "metadata": {
    "id": "IjDuvF-GmryT"
   },
   "outputs": [],
   "source": [
    "if split == 'validation': loader = val_loader\n",
    "elif split == 'test': loader = test_loader"
   ]
  },
  {
   "cell_type": "code",
   "execution_count": null,
   "metadata": {
    "id": "6t_y0bmcmryT"
   },
   "outputs": [],
   "source": [
    "# Grab scores and labels (just need 1 loop because our batch size equals numsamples)\n",
    "for _, (scores, labels) in enumerate(loader):\n",
    "    scores = scores.numpy()\n",
    "    labels = labels.numpy()"
   ]
  },
  {
   "cell_type": "code",
   "execution_count": null,
   "metadata": {
    "id": "0OeGAyK1mryU"
   },
   "outputs": [],
   "source": [
    "# Assign the scores to the correct models\n",
    "if split == 'validation':\n",
    "    fs_scores = scores[:, 0, :]\n",
    "    standard_scores = scores[:, 1, :]\n",
    "    weighted_scores = scores[:, 2, :]\n",
    "else:\n",
    "    standard_scores = scores[:, 0, :]\n",
    "    weighted_scores = scores[:, 1, :]"
   ]
  },
  {
   "cell_type": "code",
   "execution_count": null,
   "metadata": {
    "id": "tUJPwchKmryU"
   },
   "outputs": [],
   "source": [
    "nclasses = 171\n",
    "nsamples = scores.shape[0]"
   ]
  },
  {
   "cell_type": "code",
   "execution_count": null,
   "metadata": {
    "id": "mH3AumX0Au6O"
   },
   "outputs": [],
   "source": [
    "import pickle\n",
    "\n",
    "all_imgs_filename = '/content/all_imgs.pkl'\n",
    "with open(all_imgs_filename, 'rb') as handle:\n",
    "    all_imgs = pickle.load(handle)"
   ]
  },
  {
   "cell_type": "code",
   "execution_count": null,
   "metadata": {
    "id": "Dl9JPhZZ8xZ4"
   },
   "outputs": [],
   "source": [
    "all_imgs = np.squeeze(np.array(all_imgs))"
   ]
  },
  {
   "cell_type": "code",
   "execution_count": null,
   "metadata": {
    "colab": {
     "base_uri": "https://localhost:8080/"
    },
    "id": "9EIGItz_84ed",
    "outputId": "098af370-0347-4f8c-f8b3-53909556067f"
   },
   "outputs": [
    {
     "name": "stdout",
     "output_type": "stream",
     "text": [
      "(20, 16557, 2)\n"
     ]
    }
   ],
   "source": [
    "print(all_imgs.shape)"
   ]
  },
  {
   "cell_type": "code",
   "execution_count": null,
   "metadata": {
    "id": "mrI-VRz86JSJ"
   },
   "outputs": [],
   "source": [
    "percent = []\n",
    "for k in range(len(biased_classes_list)):\n",
    "  b = biased_classes_list[k]\n",
    "  c = biased_classes_mapped[b]\n",
    "  #print(onehot_to_humanlabels[b], onehot_to_humanlabels[c])\n",
    "\n",
    "  # Categorize the images into co-occur/exclusive/other                                                                                                  \n",
    "  #cooccur = (labels[:,b]==1) & (labels[:,c]==1)\n",
    "  exclusive = (labels[:,b]==1) & (labels[:,c]==0)\n",
    "  #exclusive = (weighted_scores[:,b]>0.5) & (weighted_scores[:,c]<0.5)\n",
    "  exclu_idx = set(np.squeeze(exclusive.nonzero()))\n",
    "  #print('n_exclu: ', len(exclu_idx))\n",
    "  #other = (~exclusive) & (~cooccur)\n",
    "  portion = .10\n",
    "  top_x = int(len(exclu_idx) * portion)\n",
    "  if top_x==0:\n",
    "    top_x=1\n",
    "  print(top_x)\n",
    "\n",
    "  #a = all_imgs[k][:,0]-all_imgs[k][:,1]\n",
    "  # weighted_top_10 = weighted_scores[:, b]\n",
    "  a = all_imgs[k][:,0]*weighted_scores[:,b]-all_imgs[k][:,1]*standard_scores[:,c]\n",
    "  top_idx = set(np.argsort(a)[-top_x:])\n",
    "  #print('exclu imgs: ', len(top_idx.intersection(exclu_idx)))\n",
    "  #print((len(top_idx.intersection(exclu_idx))/top_x))\n",
    "  percent.append((len(top_idx.intersection(exclu_idx))/top_x))\n",
    "np.mean(percent)"
   ]
  },
  {
   "cell_type": "code",
   "execution_count": null,
   "metadata": {
    "colab": {
     "base_uri": "https://localhost:8080/"
    },
    "id": "_4ryr6HDX0PW",
    "outputId": "102655a3-63b7-4945-93e4-c3f0fd3dc8e7"
   },
   "outputs": [
    {
     "name": "stdout",
     "output_type": "stream",
     "text": [
      "150\n",
      "30\n",
      "22\n",
      "32\n",
      "131\n",
      "29\n",
      "104\n",
      "49\n",
      "21\n",
      "28\n",
      "1\n",
      "86\n",
      "4\n",
      "32\n",
      "1\n",
      "4\n",
      "3\n",
      "1\n",
      "1\n",
      "1\n"
     ]
    }
   ],
   "source": [
    "percent = []\n",
    "a_20_e = []\n",
    "a_20_c = []\n",
    "for k in range(len(biased_classes_list)):\n",
    "  b = biased_classes_list[k]\n",
    "  c = biased_classes_mapped[b]\n",
    "  \n",
    "  exclusive = (labels[:,b]==1) & (labels[:,c]==0) # get gt\n",
    "  cooccur = (labels[:,b]==1) & (labels[:,c]==1) # get gt\n",
    "  exclu_idx = set(np.squeeze(exclusive.nonzero())) # create set of all idx\n",
    "\n",
    "  # set a cutoff for top 10 and just see how many exclusive vs not (show number exclusive imgs in set, how many are identified, how many are missed)\n",
    "  # tp, fn, total # exclu imgs\n",
    "  \n",
    "  portion = .25\n",
    "  top_x = int(len(exclu_idx) * portion) \n",
    "  if top_x==0:\n",
    "    top_x=1\n",
    "  print(top_x)\n",
    "\n",
    "  a_e = weighted_scores[exclusive, b] + (1-standard_scores[exclusive, c]) # look at distribution \n",
    "  a_c = weighted_scores[cooccur, b] + (1-standard_scores[cooccur, c]) # look at distribution \n",
    "  a_20_e.append(a_e)\n",
    "  a_20_c.append(a_c)\n",
    "  top_idx = set(np.argsort(a)[-top_x:])\n",
    "  #print('exclu imgs: ', len(top_idx.intersection(exclu_idx)))\n",
    "  #print((len(top_idx.intersection(exclu_idx))/top_x))\n",
    "  percent.append((len(top_idx.intersection(exclu_idx))/top_x))\n",
    "a_20_e = list(itertools.chain.from_iterable(a_20_e))\n",
    "a_20_c = list(itertools.chain.from_iterable(a_20_c))\n",
    "#np.mean(percent)"
   ]
  },
  {
   "cell_type": "code",
   "execution_count": null,
   "metadata": {
    "colab": {
     "base_uri": "https://localhost:8080/",
     "height": 575
    },
    "id": "qEAP02OWLjmX",
    "outputId": "d25b6e54-63d0-407e-b57f-213b98ffe771"
   },
   "outputs": [
    {
     "data": {
      "image/png": "[encoded data removed]",
      "text/plain": [
       "<Figure size 432x288 with 1 Axes>"
      ]
     },
     "metadata": {
      "needs_background": "light",
      "tags": []
     },
     "output_type": "display_data"
    },
    {
     "data": {
      "image/png": "[encoded data removed]",
      "text/plain": [
       "<Figure size 432x288 with 1 Axes>"
      ]
     },
     "metadata": {
      "needs_background": "light",
      "tags": []
     },
     "output_type": "display_data"
    }
   ],
   "source": [
    "plt.hist(a_20_e, density=True, bins=30)  # density=False would make counts\n",
    "plt.ylabel('Freq')\n",
    "plt.xlabel('Weighted_b + (1-standard_c)')\n",
    "plt.title(\"Exclusive\")\n",
    "plt.ylim([0, 3])\n",
    "plt.show()\n",
    "\n",
    "plt.hist(a_20_c, density=True, bins=30)  # density=False would make counts\n",
    "plt.ylabel('Freq')\n",
    "plt.xlabel('Weighted_b + (1-standard_c)')\n",
    "plt.title(\"Co-occur\")\n",
    "plt.ylim([0, 3])\n",
    "\n",
    "plt.show()"
   ]
  },
  {
   "cell_type": "code",
   "execution_count": null,
   "metadata": {
    "id": "ywxIMqOf5JSf"
   },
   "outputs": [],
   "source": []
  },
  {
   "cell_type": "code",
   "execution_count": null,
   "metadata": {
    "id": "a3sL-OS65JU5"
   },
   "outputs": [],
   "source": []
  },
  {
   "cell_type": "code",
   "execution_count": null,
   "metadata": {
    "id": "Y7BaH-fYAu_1"
   },
   "outputs": [],
   "source": [
    "def get_dict(exclu_filename, co_occur_filename):\n",
    "  with open(co_occur_filename, 'rb') as handle:\n",
    "      co_occur = pickle.load(handle)\n",
    "\n",
    "  with open(exclu_filename, 'rb') as handle:\n",
    "      exclusive = pickle.load(handle)\n",
    "\n",
    "  co_occur_results = collections.defaultdict(list)\n",
    "  exclusive_results = collections.defaultdict(list)\n",
    "  for b in co_occur.keys():\n",
    "    exclusive_results['b_mse_list'].append(exclusive[b]['b_mse_list'])\n",
    "    co_occur_results['b_mse_list'].append(co_occur[b]['b_mse_list'])\n",
    "    exclusive_results['c_mse_list'].append(exclusive[b]['c_mse_list'])\n",
    "    co_occur_results['c_mse_list'].append(co_occur[b]['c_mse_list'])\n",
    "\n",
    "  exclusive_results['b_mse_list'] = list(itertools.chain.from_iterable(exclusive_results['b_mse_list']))\n",
    "  co_occur_results['b_mse_list'] = list(itertools.chain.from_iterable(co_occur_results['b_mse_list']))\n",
    "  exclusive_results['c_mse_list'] = list(itertools.chain.from_iterable(exclusive_results['c_mse_list']))\n",
    "  co_occur_results['c_mse_list'] = list(itertools.chain.from_iterable(co_occur_results['c_mse_list']))\n",
    "  \n",
    "  \n",
    "  return co_occur_results, exclusive_results"
   ]
  },
  {
   "cell_type": "code",
   "execution_count": null,
   "metadata": {
    "id": "75Mun8U2Au_3"
   },
   "outputs": [],
   "source": [
    "def get_meanvar(co_occuur, exclu):\n",
    "  print('Mean:')\n",
    "  print('exclusive b: ', np.mean(exclu['b_mse_list']))\n",
    "  print('co_occur b: ', np.mean(co_occur['b_mse_list']))\n",
    "  print('exclusive c: ', np.mean(exclu['c_mse_list']))\n",
    "  print('co_occur c: ', np.mean(co_occur['c_mse_list']))\n",
    "\n",
    "  print('Variance:')\n",
    "  print('exclusive b: ', np.var(exclu['b_mse_list']))\n",
    "  print('co_occur b: ', np.var(co_occur['b_mse_list']))\n",
    "  print('exclusive c: ', np.var(exclu['c_mse_list']))\n",
    "  print('co_occur c: ', np.var(co_occur['c_mse_list']))\n",
    "  return"
   ]
  },
  {
   "cell_type": "code",
   "execution_count": null,
   "metadata": {
    "id": "pckvlf1yAu_3"
   },
   "outputs": [],
   "source": [
    "def get_histo(co_occur, exclu):\n",
    "  plt.hist(np.array(exclu['b_mse_list']).squeeze(), density=True, bins=30)  # density=False would make counts\n",
    "  plt.ylabel('MSE')\n",
    "  plt.xlabel('Exclusive (b)')\n",
    "  plt.show()\n",
    "  \n",
    "  plt.hist(np.array(co_occur['b_mse_list']).squeeze(), density=True, bins=30)  # density=False would make counts\n",
    "  plt.ylabel('MSE')\n",
    "  plt.xlabel('Co-occur (b)')\n",
    "  plt.show()\n",
    "\n",
    "  plt.hist(np.array(exclu['c_mse_list']).squeeze(), density=True, bins=30)  # density=False would make counts\n",
    "  plt.ylabel('MSE')\n",
    "  plt.xlabel('Exclusive (c)')\n",
    "  plt.show()\n",
    "\n",
    "  plt.hist(np.array(co_occur['c_mse_list']).squeeze(), density=True, bins=30)  # density=False would make counts\n",
    "  plt.ylabel('MSE')\n",
    "  plt.xlabel('Co-occur (c)')\n",
    "  plt.show()\n",
    "\n",
    "  return"
   ]
  },
  {
   "cell_type": "code",
   "execution_count": null,
   "metadata": {
    "colab": {
     "base_uri": "https://localhost:8080/",
     "height": 1000
    },
    "id": "QY66YwV3Au_4",
    "outputId": "628b4369-db5a-47a2-ca19-92827b393700"
   },
   "outputs": [
    {
     "name": "stdout",
     "output_type": "stream",
     "text": [
      "Mean:\n",
      "exclusive b:  54.93600652152169\n",
      "co_occur b:  54.40435427682993\n",
      "exclusive c:  50.85107070792149\n",
      "co_occur c:  52.214649256208034\n",
      "Variance:\n",
      "exclusive b:  86.98378705220858\n",
      "co_occur b:  91.6574352049862\n",
      "exclusive c:  93.20196574178063\n",
      "co_occur c:  85.65311857676247\n"
     ]
    },
    {
     "data": {
      "image/png": "[encoded data removed]",
      "text/plain": [
       "<Figure size 432x288 with 1 Axes>"
      ]
     },
     "metadata": {
      "needs_background": "light",
      "tags": []
     },
     "output_type": "display_data"
    },
    {
     "data": {
      "image/png": "[encoded data removed]",
      "text/plain": [
       "<Figure size 432x288 with 1 Axes>"
      ]
     },
     "metadata": {
      "needs_background": "light",
      "tags": []
     },
     "output_type": "display_data"
    },
    {
     "data": {
      "image/png": "[encoded data removed]",
      "text/plain": [
       "<Figure size 432x288 with 1 Axes>"
      ]
     },
     "metadata": {
      "needs_background": "light",
      "tags": []
     },
     "output_type": "display_data"
    },
    {
     "data": {
      "image/png": "[encoded data removed]",
      "text/plain": [
       "<Figure size 432x288 with 1 Axes>"
      ]
     },
     "metadata": {
      "needs_background": "light",
      "tags": []
     },
     "output_type": "display_data"
    }
   ],
   "source": [
    "exclu_filename, co_occur_filename = '/content/co_occur_results_normalized_zero_0.pkl', '/content/exclusive_results_normalized_zero_0.pkl'\n",
    "co_occur, exclusive = get_dict(exclu_filename, co_occur_filename)\n",
    "get_meanvar(co_occur, exclusive)\n",
    "get_histo(co_occur, exclusive)\n"
   ]
  },
  {
   "cell_type": "code",
   "execution_count": null,
   "metadata": {
    "id": "tgdvgmuLDVif"
   },
   "outputs": [],
   "source": []
  }
 ],
 "metadata": {
  "colab": {
   "collapsed_sections": [],
   "name": "CAM_SEG_Distribution.ipynb",
   "provenance": [],
   "toc_visible": true
  },
  "kernelspec": {
   "display_name": "Python 3",
   "language": "python",
   "name": "python3"
  },
  "language_info": {
   "codemirror_mode": {
    "name": "ipython",
    "version": 3
   },
   "file_extension": ".py",
   "mimetype": "text/x-python",
   "name": "python",
   "nbconvert_exporter": "python",
   "pygments_lexer": "ipython3",
   "version": "3.7.6"
  }
 },
 "nbformat": 4,
 "nbformat_minor": 1
}
